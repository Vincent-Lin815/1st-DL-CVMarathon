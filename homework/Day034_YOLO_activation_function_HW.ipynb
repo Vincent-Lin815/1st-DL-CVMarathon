{
 "cells": [
  {
   "cell_type": "markdown",
   "metadata": {
    "colab_type": "text",
    "id": "Bnmm4e85ZBf2"
   },
   "source": [
    "## Day34.YOLO 細節理解 - 損失函數\n",
    "今天的課程，我們講述了\n",
    "* 損失函數是描述模型預測出來的結果和實際的差異的依據    \n",
    "* YOLO 損失函數的設計包含物件位置的定位與物件類別辨識    \n",
    "* YOLO損失函數透過超參數設定模型有不同的辨識能力    \n",
    "\n"
   ]
  },
  {
   "cell_type": "markdown",
   "metadata": {
    "colab_type": "text",
    "id": "exUoZwe5ZBf9"
   },
   "source": [
    "### 作業\n",
    "仔細觀察，bbox 寬高計算損失方式和bbox中心計算損失方式有哪邊不一樣嗎? 為什麼要有不同的設計?\n",
    "![title](loss function.png)\n",
    "\n"
   ]
  },
  {
   "cell_type": "markdown",
   "metadata": {
    "colab": {
     "base_uri": "https://localhost:8080/",
     "height": 34
    },
    "colab_type": "code",
    "executionInfo": {
     "elapsed": 2077,
     "status": "ok",
     "timestamp": 1578021189565,
     "user": {
      "displayName": "Mora chen",
      "photoUrl": "https://lh3.googleusercontent.com/a-/AAuE7mB40f7sDArbZ5_DYq02nNcnLD0Ryaf7AhsASSQeLQ=s64",
      "userId": "03171203089166907199"
     },
     "user_tz": -480
    },
    "id": "8rmQogtPZBf_",
    "outputId": "3259b864-defa-4325-cf44-b0a269d6f1dc"
   },
   "source": [
    "## ANS\n",
    "差別在於寬高計算方式採用開根號，這樣做主要是因為相同的寬跟高誤差相對於小的目標精度影響比大的目標要大\n",
    "舉個例子，原来w=10，h=20，預測出来w=8，h=22，跟原来w=3，h=5，預測出来w1，h=7相比，其實前者的誤差要比後者小，\n",
    "但是如果不加開跟號，那麼損失都是一樣：4+4=8，但是加上根號後，變成0.15和0.7。"
   ]
  },
  {
   "cell_type": "code",
   "execution_count": null,
   "metadata": {},
   "outputs": [],
   "source": []
  }
 ],
 "metadata": {
  "colab": {
   "name": "Day34.YOLO 細節理解 - 損失函數_HW.ipynb",
   "provenance": []
  },
  "kernelspec": {
   "display_name": "Python 3",
   "language": "python",
   "name": "python3"
  },
  "language_info": {
   "codemirror_mode": {
    "name": "ipython",
    "version": 3
   },
   "file_extension": ".py",
   "mimetype": "text/x-python",
   "name": "python",
   "nbconvert_exporter": "python",
   "pygments_lexer": "ipython3",
   "version": "3.5.2"
  }
 },
 "nbformat": 4,
 "nbformat_minor": 1
}
