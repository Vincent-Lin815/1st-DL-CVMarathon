{
 "cells": [
  {
   "cell_type": "markdown",
   "metadata": {},
   "source": [
    "## 『本次練習內容』\n",
    "#### 運用這幾天所學觀念搭建一個CNN分類器"
   ]
  },
  {
   "cell_type": "markdown",
   "metadata": {},
   "source": [
    "## 『本次練習目的』\n",
    "  #### 熟悉CNN分類器搭建步驟與原理\n",
    "  #### 學員們可以嘗試不同搭法，如使用不同的Maxpooling層，用GlobalAveragePooling取代Flatten等等"
   ]
  },
  {
   "cell_type": "code",
   "execution_count": 33,
   "metadata": {},
   "outputs": [],
   "source": [
    "from keras.models import Sequential\n",
    "from keras.layers import Convolution2D\n",
    "from keras.layers import MaxPooling2D\n",
    "from keras.layers import Flatten\n",
    "from keras.layers import Dense\n",
    "from keras.layers import Dropout\n",
    "from keras.layers import BatchNormalization\n",
    "from keras.datasets import cifar10\n",
    "import numpy as np\n",
    "import tensorflow as tf\n",
    "from sklearn.preprocessing import OneHotEncoder\n"
   ]
  },
  {
   "cell_type": "code",
   "execution_count": 34,
   "metadata": {},
   "outputs": [
    {
     "name": "stdout",
     "output_type": "stream",
     "text": [
      "(50000, 32, 32, 3)\n"
     ]
    }
   ],
   "source": [
    "(x_train, y_train), (x_test, y_test) = cifar10.load_data()\n",
    "\n",
    "print(x_train.shape) #(50000, 32, 32, 3)\n",
    "\n",
    "## Normalize Data\n",
    "def normalize(X_train,X_test):\n",
    "        mean = np.mean(X_train,axis=(0,1,2,3))\n",
    "        std = np.std(X_train, axis=(0, 1, 2, 3))\n",
    "        X_train = (X_train-mean)/(std+1e-7)\n",
    "        X_test = (X_test-mean)/(std+1e-7) \n",
    "        return X_train, X_test,mean,std\n",
    "    \n",
    "    \n",
    "## Normalize Training and Testset    \n",
    "x_train, x_test,mean_train,std_train = normalize(x_train, x_test) "
   ]
  },
  {
   "cell_type": "code",
   "execution_count": 35,
   "metadata": {},
   "outputs": [
    {
     "name": "stderr",
     "output_type": "stream",
     "text": [
      "C:\\Users\\Vincent\\Anaconda3\\lib\\site-packages\\sklearn\\preprocessing\\_encoders.py:415: FutureWarning: The handling of integer data will change in version 0.22. Currently, the categories are determined based on the range [0, max(values)], while in the future they will be determined based on the unique values.\n",
      "If you want the future behaviour and silence this warning, you can specify \"categories='auto'\".\n",
      "In case you used a LabelEncoder before this OneHotEncoder to convert the categories to integers, then you can now use the OneHotEncoder directly.\n",
      "  warnings.warn(msg, FutureWarning)\n"
     ]
    }
   ],
   "source": [
    "## OneHot Label 由(None, 1)-(None, 10)\n",
    "## ex. label=2,變成[0,0,1,0,0,0,0,0,0,0]\n",
    "one_hot=OneHotEncoder()\n",
    "y_train=one_hot.fit_transform(y_train).toarray()\n",
    "y_test=one_hot.transform(y_test).toarray()"
   ]
  },
  {
   "cell_type": "code",
   "execution_count": 36,
   "metadata": {},
   "outputs": [
    {
     "name": "stderr",
     "output_type": "stream",
     "text": [
      "C:\\Users\\Vincent\\Anaconda3\\lib\\site-packages\\ipykernel_launcher.py:19: UserWarning: Update your `Dense` call to the Keras 2 API: `Dense(activation=\"softmax\", units=10)`\n"
     ]
    },
    {
     "name": "stdout",
     "output_type": "stream",
     "text": [
      "Epoch 1/100\n",
      "50000/50000 [==============================] - 42s 845us/step - loss: 1.3944 - accuracy: 0.5100\n",
      "Epoch 2/100\n",
      "50000/50000 [==============================] - 39s 786us/step - loss: 1.0005 - accuracy: 0.6479\n",
      "Epoch 3/100\n",
      "50000/50000 [==============================] - 41s 826us/step - loss: 0.8356 - accuracy: 0.7080\n",
      "Epoch 4/100\n",
      "50000/50000 [==============================] - 45s 905us/step - loss: 0.7198 - accuracy: 0.7483\n",
      "Epoch 5/100\n",
      "50000/50000 [==============================] - 44s 870us/step - loss: 0.6286 - accuracy: 0.7816\n",
      "Epoch 6/100\n",
      "50000/50000 [==============================] - 43s 866us/step - loss: 0.5500 - accuracy: 0.8079\n",
      "Epoch 7/100\n",
      "50000/50000 [==============================] - 40s 799us/step - loss: 0.4784 - accuracy: 0.8349\n",
      "Epoch 8/100\n",
      "50000/50000 [==============================] - 42s 838us/step - loss: 0.4205 - accuracy: 0.8544\n",
      "Epoch 9/100\n",
      "50000/50000 [==============================] - 46s 915us/step - loss: 0.3615 - accuracy: 0.8752\n",
      "Epoch 10/100\n",
      "50000/50000 [==============================] - 40s 795us/step - loss: 0.3131 - accuracy: 0.8910\n",
      "Epoch 11/100\n",
      "50000/50000 [==============================] - 41s 822us/step - loss: 0.2687 - accuracy: 0.9068\n",
      "Epoch 12/100\n",
      "50000/50000 [==============================] - 41s 828us/step - loss: 0.2266 - accuracy: 0.9218\n",
      "Epoch 13/100\n",
      "50000/50000 [==============================] - 41s 816us/step - loss: 0.1979 - accuracy: 0.9309\n",
      "Epoch 14/100\n",
      "50000/50000 [==============================] - 43s 867us/step - loss: 0.1634 - accuracy: 0.9450\n",
      "Epoch 15/100\n",
      "50000/50000 [==============================] - 43s 857us/step - loss: 0.1377 - accuracy: 0.9536\n",
      "Epoch 16/100\n",
      "50000/50000 [==============================] - 41s 824us/step - loss: 0.1332 - accuracy: 0.9540\n",
      "Epoch 17/100\n",
      "50000/50000 [==============================] - 43s 864us/step - loss: 0.1351 - accuracy: 0.9520\n",
      "Epoch 18/100\n",
      "50000/50000 [==============================] - 44s 883us/step - loss: 0.1026 - accuracy: 0.9648\n",
      "Epoch 19/100\n",
      "50000/50000 [==============================] - 40s 799us/step - loss: 0.0924 - accuracy: 0.9680\n",
      "Epoch 20/100\n",
      "50000/50000 [==============================] - 43s 864us/step - loss: 0.0968 - accuracy: 0.9664\n",
      "Epoch 21/100\n",
      "50000/50000 [==============================] - 40s 807us/step - loss: 0.0881 - accuracy: 0.9692\n",
      "Epoch 22/100\n",
      "50000/50000 [==============================] - 43s 853us/step - loss: 0.0658 - accuracy: 0.9772\n",
      "Epoch 23/100\n",
      "50000/50000 [==============================] - 43s 862us/step - loss: 0.0864 - accuracy: 0.9689\n",
      "Epoch 24/100\n",
      "50000/50000 [==============================] - 42s 850us/step - loss: 0.0817 - accuracy: 0.9706\n",
      "Epoch 25/100\n",
      "50000/50000 [==============================] - 45s 897us/step - loss: 0.0676 - accuracy: 0.9760\n",
      "Epoch 26/100\n",
      "50000/50000 [==============================] - 41s 815us/step - loss: 0.0609 - accuracy: 0.9784\n",
      "Epoch 27/100\n",
      "50000/50000 [==============================] - 40s 794us/step - loss: 0.0697 - accuracy: 0.9756\n",
      "Epoch 28/100\n",
      "50000/50000 [==============================] - 39s 789us/step - loss: 0.0627 - accuracy: 0.9777\n",
      "Epoch 29/100\n",
      "50000/50000 [==============================] - 39s 782us/step - loss: 0.0680 - accuracy: 0.9761\n",
      "Epoch 30/100\n",
      "50000/50000 [==============================] - 39s 784us/step - loss: 0.0641 - accuracy: 0.9770\n",
      "Epoch 31/100\n",
      "50000/50000 [==============================] - 39s 778us/step - loss: 0.0520 - accuracy: 0.9819\n",
      "Epoch 32/100\n",
      "50000/50000 [==============================] - 40s 797us/step - loss: 0.0526 - accuracy: 0.9818\n",
      "Epoch 33/100\n",
      "50000/50000 [==============================] - 40s 794us/step - loss: 0.0495 - accuracy: 0.9827\n",
      "Epoch 34/100\n",
      "50000/50000 [==============================] - 40s 795us/step - loss: 0.0520 - accuracy: 0.9826\n",
      "Epoch 35/100\n",
      "50000/50000 [==============================] - 41s 819us/step - loss: 0.0684 - accuracy: 0.9758\n",
      "Epoch 36/100\n",
      "50000/50000 [==============================] - 40s 801us/step - loss: 0.0511 - accuracy: 0.9823\n",
      "Epoch 37/100\n",
      "50000/50000 [==============================] - 40s 802us/step - loss: 0.0422 - accuracy: 0.9861\n",
      "Epoch 38/100\n",
      "50000/50000 [==============================] - 40s 805us/step - loss: 0.0516 - accuracy: 0.9825\n",
      "Epoch 39/100\n",
      "50000/50000 [==============================] - 40s 802us/step - loss: 0.0523 - accuracy: 0.9824\n",
      "Epoch 40/100\n",
      "50000/50000 [==============================] - 40s 807us/step - loss: 0.0508 - accuracy: 0.9825\n",
      "Epoch 41/100\n",
      "50000/50000 [==============================] - 40s 804us/step - loss: 0.0475 - accuracy: 0.9837\n",
      "Epoch 42/100\n",
      "50000/50000 [==============================] - 40s 808us/step - loss: 0.0460 - accuracy: 0.9840\n",
      "Epoch 43/100\n",
      "50000/50000 [==============================] - 41s 810us/step - loss: 0.0393 - accuracy: 0.9865\n",
      "Epoch 44/100\n",
      "50000/50000 [==============================] - 40s 810us/step - loss: 0.0479 - accuracy: 0.9838\n",
      "Epoch 45/100\n",
      "50000/50000 [==============================] - 41s 812us/step - loss: 0.0466 - accuracy: 0.9838\n",
      "Epoch 46/100\n",
      "50000/50000 [==============================] - 40s 809us/step - loss: 0.0424 - accuracy: 0.9858\n",
      "Epoch 47/100\n",
      "50000/50000 [==============================] - 40s 807us/step - loss: 0.0374 - accuracy: 0.9869\n",
      "Epoch 48/100\n",
      "50000/50000 [==============================] - 40s 807us/step - loss: 0.0386 - accuracy: 0.9866\n",
      "Epoch 49/100\n",
      "50000/50000 [==============================] - 40s 808us/step - loss: 0.0413 - accuracy: 0.9860\n",
      "Epoch 50/100\n",
      "50000/50000 [==============================] - 41s 824us/step - loss: 0.0429 - accuracy: 0.9853\n",
      "Epoch 51/100\n",
      "50000/50000 [==============================] - 40s 810us/step - loss: 0.0411 - accuracy: 0.9849\n",
      "Epoch 52/100\n",
      "50000/50000 [==============================] - 40s 807us/step - loss: 0.0389 - accuracy: 0.9869\n",
      "Epoch 53/100\n",
      "50000/50000 [==============================] - 40s 809us/step - loss: 0.0320 - accuracy: 0.9888\n",
      "Epoch 54/100\n",
      "50000/50000 [==============================] - 40s 804us/step - loss: 0.0320 - accuracy: 0.9896\n",
      "Epoch 55/100\n",
      "50000/50000 [==============================] - 40s 806us/step - loss: 0.0439 - accuracy: 0.9847\n",
      "Epoch 56/100\n",
      "50000/50000 [==============================] - 40s 806us/step - loss: 0.0444 - accuracy: 0.9849\n",
      "Epoch 57/100\n",
      "50000/50000 [==============================] - 40s 808us/step - loss: 0.0441 - accuracy: 0.9845\n",
      "Epoch 58/100\n",
      "50000/50000 [==============================] - 40s 807us/step - loss: 0.0260 - accuracy: 0.9910\n",
      "Epoch 59/100\n",
      "50000/50000 [==============================] - 40s 805us/step - loss: 0.0295 - accuracy: 0.9898\n",
      "Epoch 60/100\n",
      "50000/50000 [==============================] - 40s 804us/step - loss: 0.0340 - accuracy: 0.9886\n",
      "Epoch 61/100\n",
      "50000/50000 [==============================] - 40s 806us/step - loss: 0.0336 - accuracy: 0.9881\n",
      "Epoch 62/100\n",
      "50000/50000 [==============================] - 40s 805us/step - loss: 0.0231 - accuracy: 0.9923\n",
      "Epoch 63/100\n",
      "50000/50000 [==============================] - 40s 805us/step - loss: 0.0364 - accuracy: 0.9877\n",
      "Epoch 64/100\n",
      "50000/50000 [==============================] - 40s 806us/step - loss: 0.0424 - accuracy: 0.9858\n",
      "Epoch 65/100\n",
      "50000/50000 [==============================] - 40s 808us/step - loss: 0.0359 - accuracy: 0.9878\n",
      "Epoch 66/100\n",
      "50000/50000 [==============================] - 40s 805us/step - loss: 0.0342 - accuracy: 0.9883\n",
      "Epoch 67/100\n",
      "50000/50000 [==============================] - 41s 813us/step - loss: 0.0298 - accuracy: 0.9893\n",
      "Epoch 68/100\n",
      "50000/50000 [==============================] - 40s 807us/step - loss: 0.0281 - accuracy: 0.9903\n",
      "Epoch 69/100\n",
      "50000/50000 [==============================] - 40s 806us/step - loss: 0.0304 - accuracy: 0.9895\n",
      "Epoch 70/100\n",
      "50000/50000 [==============================] - 40s 806us/step - loss: 0.0348 - accuracy: 0.9878\n",
      "Epoch 71/100\n",
      "50000/50000 [==============================] - 40s 806us/step - loss: 0.0307 - accuracy: 0.9896\n",
      "Epoch 72/100\n",
      "50000/50000 [==============================] - 40s 807us/step - loss: 0.0349 - accuracy: 0.9886\n",
      "Epoch 73/100\n",
      "50000/50000 [==============================] - 40s 807us/step - loss: 0.0236 - accuracy: 0.9916\n",
      "Epoch 74/100\n",
      "50000/50000 [==============================] - 40s 806us/step - loss: 0.0265 - accuracy: 0.9912\n",
      "Epoch 75/100\n",
      "50000/50000 [==============================] - 40s 807us/step - loss: 0.0183 - accuracy: 0.9938\n",
      "Epoch 76/100\n"
     ]
    },
    {
     "name": "stdout",
     "output_type": "stream",
     "text": [
      "50000/50000 [==============================] - 40s 793us/step - loss: 0.0326 - accuracy: 0.9879\n",
      "Epoch 77/100\n",
      "50000/50000 [==============================] - 40s 793us/step - loss: 0.0323 - accuracy: 0.9889\n",
      "Epoch 78/100\n",
      "50000/50000 [==============================] - 40s 792us/step - loss: 0.0262 - accuracy: 0.9911\n",
      "Epoch 79/100\n",
      "50000/50000 [==============================] - 40s 792us/step - loss: 0.0304 - accuracy: 0.9899\n",
      "Epoch 80/100\n",
      "50000/50000 [==============================] - 40s 798us/step - loss: 0.0268 - accuracy: 0.9907\n",
      "Epoch 81/100\n",
      "50000/50000 [==============================] - 40s 792us/step - loss: 0.0270 - accuracy: 0.9909\n",
      "Epoch 82/100\n",
      "50000/50000 [==============================] - 40s 794us/step - loss: 0.0267 - accuracy: 0.9904\n",
      "Epoch 83/100\n",
      "50000/50000 [==============================] - 40s 792us/step - loss: 0.0284 - accuracy: 0.9904\n",
      "Epoch 84/100\n",
      "50000/50000 [==============================] - 40s 792us/step - loss: 0.0287 - accuracy: 0.9903\n",
      "Epoch 85/100\n",
      "50000/50000 [==============================] - 40s 794us/step - loss: 0.0270 - accuracy: 0.9912\n",
      "Epoch 86/100\n",
      "50000/50000 [==============================] - 40s 792us/step - loss: 0.0227 - accuracy: 0.9923\n",
      "Epoch 87/100\n",
      "50000/50000 [==============================] - 40s 794us/step - loss: 0.0240 - accuracy: 0.9917\n",
      "Epoch 88/100\n",
      "50000/50000 [==============================] - 40s 793us/step - loss: 0.0309 - accuracy: 0.9894\n",
      "Epoch 89/100\n",
      "50000/50000 [==============================] - 40s 792us/step - loss: 0.0274 - accuracy: 0.9910\n",
      "Epoch 90/100\n",
      "50000/50000 [==============================] - 40s 801us/step - loss: 0.0239 - accuracy: 0.9920\n",
      "Epoch 91/100\n",
      "50000/50000 [==============================] - 40s 794us/step - loss: 0.0260 - accuracy: 0.9915\n",
      "Epoch 92/100\n",
      "50000/50000 [==============================] - 40s 793us/step - loss: 0.0232 - accuracy: 0.9919\n",
      "Epoch 93/100\n",
      "50000/50000 [==============================] - 40s 792us/step - loss: 0.0206 - accuracy: 0.9927\n",
      "Epoch 94/100\n",
      "50000/50000 [==============================] - 40s 793us/step - loss: 0.0192 - accuracy: 0.9937\n",
      "Epoch 95/100\n",
      "50000/50000 [==============================] - 40s 795us/step - loss: 0.0335 - accuracy: 0.9896\n",
      "Epoch 96/100\n",
      "50000/50000 [==============================] - 40s 793us/step - loss: 0.0328 - accuracy: 0.9896\n",
      "Epoch 97/100\n",
      "50000/50000 [==============================] - 40s 793us/step - loss: 0.0240 - accuracy: 0.9917\n",
      "Epoch 98/100\n",
      "50000/50000 [==============================] - 40s 793us/step - loss: 0.0176 - accuracy: 0.9941\n",
      "Epoch 99/100\n",
      "50000/50000 [==============================] - 40s 793us/step - loss: 0.0258 - accuracy: 0.9913\n",
      "Epoch 100/100\n",
      "50000/50000 [==============================] - 40s 794us/step - loss: 0.0236 - accuracy: 0.9921\n"
     ]
    },
    {
     "data": {
      "text/plain": [
       "<keras.callbacks.callbacks.History at 0x166a428ccf8>"
      ]
     },
     "execution_count": 36,
     "metadata": {},
     "output_type": "execute_result"
    }
   ],
   "source": [
    "\n",
    "classifier=Sequential()\n",
    "\n",
    "#卷積組合\n",
    "classifier.add(Convolution2D(32, (3, 3), input_shape=x_train.shape[1:], activation = 'relu'))#32,3,3,input_shape=(32,32,3),activation='relu'\n",
    "classifier.add(BatchNormalization(momentum = 0.99, epsilon = 0.001))\n",
    "classifier.add(MaxPooling2D(pool_size=(2,2)))\n",
    "\n",
    "#卷積組合\n",
    "classifier.add(Convolution2D(32, (3, 3), activation = 'relu'))#32,3,3,input_shape=(32,32,3),activation='relu'\n",
    "classifier.add(BatchNormalization(momentum = 0.99, epsilon = 0.001))\n",
    "classifier.add(MaxPooling2D(pool_size=(2,2)))\n",
    "#flatten\n",
    "classifier.add(Flatten())\n",
    "\n",
    "#FC\n",
    "classifier.add(Dense(units = 100, activation = 'relu')) #output_dim=100,activation=relu\n",
    "\n",
    "#輸出\n",
    "classifier.add(Dense(output_dim=10,activation='softmax'))\n",
    "\n",
    "#超過兩個就要選categorical_crossentrophy\n",
    "classifier.compile(optimizer = 'adam', loss = 'categorical_crossentropy', metrics = ['accuracy'])\n",
    "classifier.fit(x_train,y_train,batch_size=128,epochs=100)"
   ]
  },
  {
   "cell_type": "markdown",
   "metadata": {},
   "source": [
    "## 預測新圖片，輸入影像前處理要與訓練時相同\n",
    "#### ((X-mean)/(std+1e-7) ):這裡的mean跟std是訓練集的\n",
    "## 維度如下方示範"
   ]
  },
  {
   "cell_type": "code",
   "execution_count": 37,
   "metadata": {},
   "outputs": [
    {
     "data": {
      "text/plain": [
       "array([[9.5940224e-05, 3.5423554e-20, 6.3428620e-04, 9.9918884e-01,\n",
       "        1.2952627e-08, 2.3477873e-14, 1.4602074e-09, 6.0353808e-15,\n",
       "        8.0903956e-05, 5.4144892e-26]], dtype=float32)"
      ]
     },
     "execution_count": 37,
     "metadata": {},
     "output_type": "execute_result"
    }
   ],
   "source": [
    "input_example=(np.zeros(shape=(1,32,32,3))-mean_train)/(std_train+1e-7) \n",
    "classifier.predict(input_example)"
   ]
  }
 ],
 "metadata": {
  "kernelspec": {
   "display_name": "Python 3",
   "language": "python",
   "name": "python3"
  },
  "language_info": {
   "codemirror_mode": {
    "name": "ipython",
    "version": 3
   },
   "file_extension": ".py",
   "mimetype": "text/x-python",
   "name": "python",
   "nbconvert_exporter": "python",
   "pygments_lexer": "ipython3",
   "version": "3.7.3"
  }
 },
 "nbformat": 4,
 "nbformat_minor": 2
}
